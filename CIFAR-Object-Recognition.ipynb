{
 "cells": [
  {
   "cell_type": "markdown",
   "metadata": {
    "id": "BC0zvo0SqiGr"
   },
   "source": [
    "# CIFAR-10 Object Recognition\n",
    "\n",
    "\n",
    "\n",
    "https://www.kaggle.com/c/cifar-10/code"
   ]
  },
  {
   "cell_type": "code",
   "execution_count": 1,
   "metadata": {
    "id": "EjSGcBT1y4D8"
   },
   "outputs": [],
   "source": [
    "from keras.datasets import cifar10\n",
    "\n",
    "import matplotlib.pyplot as plt\n",
    "from keras import models,layers\n",
    "from tensorflow.keras.utils import to_categorical\n",
    "from keras import optimizers"
   ]
  },
  {
   "cell_type": "code",
   "execution_count": 2,
   "metadata": {
    "colab": {
     "base_uri": "https://localhost:8080/",
     "height": 0
    },
    "id": "gv5NWnEPy4FQ",
    "outputId": "5f38193e-f681-466d-f74a-b35d4e1c04f8"
   },
   "outputs": [
    {
     "name": "stdout",
     "output_type": "stream",
     "text": [
      "(50000, 32, 32, 3)\n",
      "(10000, 32, 32, 3)\n",
      "(50000, 1)\n",
      "(10000, 1)\n"
     ]
    }
   ],
   "source": [
    "(xtrain, ytrain), (xtest, ytest) = cifar10.load_data()\n",
    "print(xtrain.shape)\n",
    "print(xtest.shape)\n",
    "print(ytrain.shape)\n",
    "print(ytest.shape)"
   ]
  },
  {
   "cell_type": "code",
   "execution_count": 3,
   "metadata": {
    "id": "R3PnsOiqy4Ep"
   },
   "outputs": [],
   "source": [
    "# convert the pixel values in float\n",
    "xtrain = xtrain.astype('float32')\n",
    "xtest = xtest.astype('float32')\n",
    "# scale the images\n",
    "xtrain /= 255  # ths is eqvalent to xtrain = xtrain/255 \n",
    "xtest /= 255\n",
    "ytrain = to_categorical(ytrain)\n",
    "ytest = to_categorical(ytest)   "
   ]
  },
  {
   "cell_type": "code",
   "execution_count": 4,
   "metadata": {
    "id": "ixQwYgs3y4F_"
   },
   "outputs": [],
   "source": [
    "labels=['airplane', 'automobile','bird', 'cat', 'deer', 'dog', 'frog', 'horse', 'ship', 'truck']"
   ]
  },
  {
   "cell_type": "code",
   "execution_count": 5,
   "metadata": {
    "colab": {
     "base_uri": "https://localhost:8080/",
     "height": 285
    },
    "id": "mtn_1uyTy4GP",
    "outputId": "9778f8d1-4978-45c3-838c-254485ce54a4"
   },
   "outputs": [
    {
     "name": "stdout",
     "output_type": "stream",
     "text": [
      "[0. 0. 0. 0. 0. 0. 0. 1. 0. 0.]\n"
     ]
    },
    {
     "data": {
      "image/png": "[encoded data removed]",
      "text/plain": [
       "<Figure size 432x288 with 1 Axes>"
      ]
     },
     "metadata": {
      "needs_background": "light",
      "tags": []
     },
     "output_type": "display_data"
    }
   ],
   "source": [
    "#explore data\n",
    "print(ytrain[2000])\n",
    "plt.imshow(xtrain[2000])\n",
    "plt.show()"
   ]
  },
  {
   "cell_type": "code",
   "execution_count": 6,
   "metadata": {
    "id": "0RdMlS19meui"
   },
   "outputs": [],
   "source": [
    "from datetime import datetime\n",
    "def timer(start_time=None):\n",
    "    if not start_time:\n",
    "        print(datetime.now())\n",
    "        start_time = datetime.now()\n",
    "        return start_time\n",
    "    elif start_time:\n",
    "        thour, temp_sec = divmod((datetime.now() - start_time).total_seconds(), 3600)\n",
    "        tmin, tsec = divmod(temp_sec, 60)\n",
    "        print('Time taken: %i hours %i minutes and %s seconds.' % (thour, tmin, round(tsec, 2)))"
   ]
  },
  {
   "cell_type": "code",
   "execution_count": 7,
   "metadata": {
    "colab": {
     "base_uri": "https://localhost:8080/",
     "height": 0
    },
    "id": "uD2GMDhNpPNv",
    "outputId": "a6d3e3d3-c622-4d6b-f64c-2a48146bf3e7"
   },
   "outputs": [
    {
     "name": "stdout",
     "output_type": "stream",
     "text": [
      "[[[0.20784314 0.25490198 0.20784314]\n",
      "  [0.21176471 0.24705882 0.20392157]\n",
      "  [0.21960784 0.23529412 0.19607843]\n",
      "  ...\n",
      "  [0.18431373 0.2        0.19607843]\n",
      "  [0.16078432 0.1764706  0.17254902]\n",
      "  [0.09411765 0.10980392 0.10588235]]\n",
      "\n",
      " [[0.18039216 0.23137255 0.16078432]\n",
      "  [0.20784314 0.24313726 0.1764706 ]\n",
      "  [0.21176471 0.23137255 0.17254902]\n",
      "  ...\n",
      "  [0.16470589 0.18039216 0.1764706 ]\n",
      "  [0.15294118 0.16862746 0.16470589]\n",
      "  [0.10980392 0.1254902  0.12156863]]\n",
      "\n",
      " [[0.1764706  0.23137255 0.14901961]\n",
      "  [0.19607843 0.23529412 0.16078432]\n",
      "  [0.18039216 0.20392157 0.13333334]\n",
      "  ...\n",
      "  [0.14901961 0.16470589 0.16078432]\n",
      "  [0.14117648 0.15686275 0.15294118]\n",
      "  [0.11372549 0.12941177 0.1254902 ]]\n",
      "\n",
      " ...\n",
      "\n",
      " [[0.2784314  0.3254902  0.25882354]\n",
      "  [0.2901961  0.3254902  0.25882354]\n",
      "  [0.3137255  0.33333334 0.2627451 ]\n",
      "  ...\n",
      "  [0.2        0.21176471 0.12941177]\n",
      "  [0.18039216 0.19215687 0.13333334]\n",
      "  [0.19215687 0.19607843 0.16078432]]\n",
      "\n",
      " [[0.29411766 0.32156864 0.2627451 ]\n",
      "  [0.30980393 0.33333334 0.27058825]\n",
      "  [0.31764707 0.33333334 0.2627451 ]\n",
      "  ...\n",
      "  [0.23921569 0.25490198 0.16078432]\n",
      "  [0.2509804  0.2627451  0.1882353 ]\n",
      "  [0.1882353  0.19607843 0.16078432]]\n",
      "\n",
      " [[0.33333334 0.3254902  0.2784314 ]\n",
      "  [0.33333334 0.32941177 0.2784314 ]\n",
      "  [0.3372549  0.3372549  0.27450982]\n",
      "  ...\n",
      "  [0.23921569 0.25490198 0.15294118]\n",
      "  [0.2509804  0.2627451  0.18039216]\n",
      "  [0.19215687 0.19607843 0.16078432]]]\n"
     ]
    }
   ],
   "source": [
    "print(xtrain[10])"
   ]
  },
  {
   "cell_type": "code",
   "execution_count": 8,
   "metadata": {
    "colab": {
     "base_uri": "https://localhost:8080/",
     "height": 0
    },
    "id": "u0JDs9BdpgzM",
    "outputId": "6b03915e-b873-4d62-995e-6f51e5fc1fbf"
   },
   "outputs": [
    {
     "data": {
      "text/plain": [
       "array([0., 0., 0., 0., 1., 0., 0., 0., 0., 0.], dtype=float32)"
      ]
     },
     "execution_count": 8,
     "metadata": {
      "tags": []
     },
     "output_type": "execute_result"
    }
   ],
   "source": [
    "ytrain[10]"
   ]
  },
  {
   "cell_type": "markdown",
   "metadata": {
    "id": "3RO8gtsboFhY"
   },
   "source": [
    "## Creating the Model Layers"
   ]
  },
  {
   "cell_type": "code",
   "execution_count": 9,
   "metadata": {
    "id": "i3PGpIU7y4Hz"
   },
   "outputs": [],
   "source": [
    "model = models.Sequential()\n",
    "\n",
    "model.add(layers.Conv2D(32, (3, 3), padding='same', activation='relu', input_shape=(32,32,3)))\n",
    "model.add(layers.Conv2D(32,(3,3), padding='same',activation='relu'))\n",
    "model.add(layers.MaxPooling2D(pool_size=2)) \n",
    "model.add(layers.Dropout(0.2))\n",
    "\n",
    "model.add(layers.Conv2D(64,(3,3), padding='same',activation='relu'))\n",
    "model.add(layers.Conv2D(128,(3,3), padding='same',activation='relu'))\n",
    "model.add(layers.MaxPooling2D(pool_size=2)) \n",
    "model.add(layers.Dropout(0.2))\n",
    "\n",
    "model.add(layers.Conv2D(64,(3,3), padding='same',activation='relu'))\n",
    "model.add(layers.Conv2D(64,(3,3), padding='same',activation='relu'))\n",
    "model.add(layers.MaxPooling2D(pool_size=2)) \n",
    "model.add(layers.Dropout(0.2))\n",
    "\n",
    "#Classification layers\n",
    "model.add(layers.Flatten())\n",
    "model.add(layers.Dense(512,activation='relu'))\n",
    "model.add(layers.Dropout(0.2))\n",
    "model.add(layers.Dense(64,activation='relu'))\n",
    "model.add(layers.Dropout(0.2))\n",
    "model.add(layers.Dense(10,activation='softmax'))  # this is the actual output layer\n",
    "\n",
    "# initiate Adam optimizer\n",
    "opt = optimizers.Adam(learning_rate=1e-4, decay=1e-6)\n",
    "\n",
    "# Let's train the model \n",
    "model.compile(loss='categorical_crossentropy',\n",
    "              optimizer=opt,\n",
    "              metrics=['accuracy'])\n"
   ]
  },
  {
   "cell_type": "markdown",
   "metadata": {
    "id": "lDXfsqPqoJkh"
   },
   "source": [
    "## Viewing the Model Summary"
   ]
  },
  {
   "cell_type": "code",
   "execution_count": 10,
   "metadata": {
    "colab": {
     "base_uri": "https://localhost:8080/",
     "height": 0
    },
    "id": "N4Nbn9mCmeuk",
    "outputId": "1992d67f-6bc5-4978-cae3-f8cb546ae59e"
   },
   "outputs": [
    {
     "name": "stdout",
     "output_type": "stream",
     "text": [
      "Model: \"sequential\"\n",
      "_________________________________________________________________\n",
      "Layer (type)                 Output Shape              Param #   \n",
      "=================================================================\n",
      "conv2d (Conv2D)              (None, 32, 32, 32)        896       \n",
      "_________________________________________________________________\n",
      "conv2d_1 (Conv2D)            (None, 32, 32, 32)        9248      \n",
      "_________________________________________________________________\n",
      "max_pooling2d (MaxPooling2D) (None, 16, 16, 32)        0         \n",
      "_________________________________________________________________\n",
      "dropout (Dropout)            (None, 16, 16, 32)        0         \n",
      "_________________________________________________________________\n",
      "conv2d_2 (Conv2D)            (None, 16, 16, 64)        18496     \n",
      "_________________________________________________________________\n",
      "conv2d_3 (Conv2D)            (None, 16, 16, 128)       73856     \n",
      "_________________________________________________________________\n",
      "max_pooling2d_1 (MaxPooling2 (None, 8, 8, 128)         0         \n",
      "_________________________________________________________________\n",
      "dropout_1 (Dropout)          (None, 8, 8, 128)         0         \n",
      "_________________________________________________________________\n",
      "conv2d_4 (Conv2D)            (None, 8, 8, 64)          73792     \n",
      "_________________________________________________________________\n",
      "conv2d_5 (Conv2D)            (None, 8, 8, 64)          36928     \n",
      "_________________________________________________________________\n",
      "max_pooling2d_2 (MaxPooling2 (None, 4, 4, 64)          0         \n",
      "_________________________________________________________________\n",
      "dropout_2 (Dropout)          (None, 4, 4, 64)          0         \n",
      "_________________________________________________________________\n",
      "flatten (Flatten)            (None, 1024)              0         \n",
      "_________________________________________________________________\n",
      "dense (Dense)                (None, 512)               524800    \n",
      "_________________________________________________________________\n",
      "dropout_3 (Dropout)          (None, 512)               0         \n",
      "_________________________________________________________________\n",
      "dense_1 (Dense)              (None, 64)                32832     \n",
      "_________________________________________________________________\n",
      "dropout_4 (Dropout)          (None, 64)                0         \n",
      "_________________________________________________________________\n",
      "dense_2 (Dense)              (None, 10)                650       \n",
      "=================================================================\n",
      "Total params: 771,498\n",
      "Trainable params: 771,498\n",
      "Non-trainable params: 0\n",
      "_________________________________________________________________\n"
     ]
    }
   ],
   "source": [
    "model.summary()"
   ]
  },
  {
   "cell_type": "markdown",
   "metadata": {
    "id": "zSE5aZIHoN1G"
   },
   "source": [
    "## Fitting the Model"
   ]
  },
  {
   "cell_type": "code",
   "execution_count": 11,
   "metadata": {
    "colab": {
     "base_uri": "https://localhost:8080/",
     "height": 0
    },
    "id": "uQkjg8bty4Ip",
    "outputId": "fd1f7250-9d28-4723-e754-e4f8d110385d"
   },
   "outputs": [
    {
     "name": "stdout",
     "output_type": "stream",
     "text": [
      "2021-07-31 14:09:42.877233\n",
      "Epoch 1/125\n",
      "64/64 [==============================] - 21s 66ms/step - loss: 2.2923 - accuracy: 0.1154 - val_loss: 2.0805 - val_accuracy: 0.2270\n",
      "Epoch 2/125\n",
      "64/64 [==============================] - 4s 62ms/step - loss: 2.0810 - accuracy: 0.2230 - val_loss: 1.9673 - val_accuracy: 0.2928\n",
      "Epoch 3/125\n",
      "64/64 [==============================] - 3s 46ms/step - loss: 1.9688 - accuracy: 0.2804 - val_loss: 1.8098 - val_accuracy: 0.3646\n",
      "Epoch 4/125\n",
      "64/64 [==============================] - 3s 46ms/step - loss: 1.8392 - accuracy: 0.3283 - val_loss: 1.7014 - val_accuracy: 0.3844\n",
      "Epoch 5/125\n",
      "64/64 [==============================] - 3s 47ms/step - loss: 1.7562 - accuracy: 0.3562 - val_loss: 1.6218 - val_accuracy: 0.4160\n",
      "Epoch 6/125\n",
      "64/64 [==============================] - 3s 46ms/step - loss: 1.6964 - accuracy: 0.3828 - val_loss: 1.5585 - val_accuracy: 0.4442\n",
      "Epoch 7/125\n",
      "64/64 [==============================] - 3s 47ms/step - loss: 1.6321 - accuracy: 0.4048 - val_loss: 1.5359 - val_accuracy: 0.4456\n",
      "Epoch 8/125\n",
      "64/64 [==============================] - 3s 47ms/step - loss: 1.5901 - accuracy: 0.4229 - val_loss: 1.4851 - val_accuracy: 0.4610\n",
      "Epoch 9/125\n",
      "64/64 [==============================] - 3s 47ms/step - loss: 1.5536 - accuracy: 0.4357 - val_loss: 1.4549 - val_accuracy: 0.4756\n",
      "Epoch 10/125\n",
      "64/64 [==============================] - 3s 47ms/step - loss: 1.5333 - accuracy: 0.4464 - val_loss: 1.4348 - val_accuracy: 0.4798\n",
      "Epoch 11/125\n",
      "64/64 [==============================] - 3s 47ms/step - loss: 1.4971 - accuracy: 0.4549 - val_loss: 1.3760 - val_accuracy: 0.5054\n",
      "Epoch 12/125\n",
      "64/64 [==============================] - 3s 47ms/step - loss: 1.4510 - accuracy: 0.4747 - val_loss: 1.3732 - val_accuracy: 0.5026\n",
      "Epoch 13/125\n",
      "64/64 [==============================] - 3s 48ms/step - loss: 1.4602 - accuracy: 0.4714 - val_loss: 1.3458 - val_accuracy: 0.5108\n",
      "Epoch 14/125\n",
      "64/64 [==============================] - 3s 47ms/step - loss: 1.4152 - accuracy: 0.4878 - val_loss: 1.3190 - val_accuracy: 0.5252\n",
      "Epoch 15/125\n",
      "64/64 [==============================] - 3s 47ms/step - loss: 1.3961 - accuracy: 0.4977 - val_loss: 1.3011 - val_accuracy: 0.5302\n",
      "Epoch 16/125\n",
      "64/64 [==============================] - 3s 48ms/step - loss: 1.3641 - accuracy: 0.5114 - val_loss: 1.2536 - val_accuracy: 0.5508\n",
      "Epoch 17/125\n",
      "64/64 [==============================] - 3s 48ms/step - loss: 1.3632 - accuracy: 0.5090 - val_loss: 1.2481 - val_accuracy: 0.5512\n",
      "Epoch 18/125\n",
      "64/64 [==============================] - 3s 48ms/step - loss: 1.3380 - accuracy: 0.5225 - val_loss: 1.2209 - val_accuracy: 0.5628\n",
      "Epoch 19/125\n",
      "64/64 [==============================] - 3s 48ms/step - loss: 1.3154 - accuracy: 0.5272 - val_loss: 1.2183 - val_accuracy: 0.5660\n",
      "Epoch 20/125\n",
      "64/64 [==============================] - 3s 49ms/step - loss: 1.3010 - accuracy: 0.5348 - val_loss: 1.1944 - val_accuracy: 0.5752\n",
      "Epoch 21/125\n",
      "64/64 [==============================] - 3s 49ms/step - loss: 1.2694 - accuracy: 0.5468 - val_loss: 1.1770 - val_accuracy: 0.5832\n",
      "Epoch 22/125\n",
      "64/64 [==============================] - 3s 48ms/step - loss: 1.2734 - accuracy: 0.5495 - val_loss: 1.1851 - val_accuracy: 0.5774\n",
      "Epoch 23/125\n",
      "64/64 [==============================] - 3s 49ms/step - loss: 1.2398 - accuracy: 0.5597 - val_loss: 1.1700 - val_accuracy: 0.5796\n",
      "Epoch 24/125\n",
      "64/64 [==============================] - 3s 48ms/step - loss: 1.2341 - accuracy: 0.5591 - val_loss: 1.1551 - val_accuracy: 0.5888\n",
      "Epoch 25/125\n",
      "64/64 [==============================] - 3s 48ms/step - loss: 1.2262 - accuracy: 0.5607 - val_loss: 1.1133 - val_accuracy: 0.6066\n",
      "Epoch 26/125\n",
      "64/64 [==============================] - 3s 48ms/step - loss: 1.2095 - accuracy: 0.5703 - val_loss: 1.1146 - val_accuracy: 0.6086\n",
      "Epoch 27/125\n",
      "64/64 [==============================] - 3s 49ms/step - loss: 1.1931 - accuracy: 0.5759 - val_loss: 1.0671 - val_accuracy: 0.6230\n",
      "Epoch 28/125\n",
      "64/64 [==============================] - 3s 48ms/step - loss: 1.1821 - accuracy: 0.5789 - val_loss: 1.1069 - val_accuracy: 0.6082\n",
      "Epoch 29/125\n",
      "64/64 [==============================] - 3s 48ms/step - loss: 1.1696 - accuracy: 0.5811 - val_loss: 1.0591 - val_accuracy: 0.6250\n",
      "Epoch 30/125\n",
      "64/64 [==============================] - 3s 48ms/step - loss: 1.1552 - accuracy: 0.5895 - val_loss: 1.0540 - val_accuracy: 0.6316\n",
      "Epoch 31/125\n",
      "64/64 [==============================] - 3s 49ms/step - loss: 1.1525 - accuracy: 0.5916 - val_loss: 1.0346 - val_accuracy: 0.6322\n",
      "Epoch 32/125\n",
      "64/64 [==============================] - 3s 49ms/step - loss: 1.1286 - accuracy: 0.5951 - val_loss: 1.0199 - val_accuracy: 0.6412\n",
      "Epoch 33/125\n",
      "64/64 [==============================] - 3s 48ms/step - loss: 1.1238 - accuracy: 0.6016 - val_loss: 1.0166 - val_accuracy: 0.6396\n",
      "Epoch 34/125\n",
      "64/64 [==============================] - 3s 49ms/step - loss: 1.1103 - accuracy: 0.6054 - val_loss: 1.0054 - val_accuracy: 0.6468\n",
      "Epoch 35/125\n",
      "64/64 [==============================] - 3s 49ms/step - loss: 1.0949 - accuracy: 0.6126 - val_loss: 1.0102 - val_accuracy: 0.6452\n",
      "Epoch 36/125\n",
      "64/64 [==============================] - 3s 49ms/step - loss: 1.0889 - accuracy: 0.6138 - val_loss: 0.9725 - val_accuracy: 0.6594\n",
      "Epoch 37/125\n",
      "64/64 [==============================] - 3s 49ms/step - loss: 1.0755 - accuracy: 0.6213 - val_loss: 0.9720 - val_accuracy: 0.6616\n",
      "Epoch 38/125\n",
      "64/64 [==============================] - 3s 49ms/step - loss: 1.0787 - accuracy: 0.6186 - val_loss: 0.9875 - val_accuracy: 0.6520\n",
      "Epoch 39/125\n",
      "64/64 [==============================] - 3s 49ms/step - loss: 1.0501 - accuracy: 0.6268 - val_loss: 0.9496 - val_accuracy: 0.6638\n",
      "Epoch 40/125\n",
      "64/64 [==============================] - 3s 49ms/step - loss: 1.0639 - accuracy: 0.6223 - val_loss: 0.9517 - val_accuracy: 0.6630\n",
      "Epoch 41/125\n",
      "64/64 [==============================] - 3s 50ms/step - loss: 1.0268 - accuracy: 0.6350 - val_loss: 0.9528 - val_accuracy: 0.6690\n",
      "Epoch 42/125\n",
      "64/64 [==============================] - 3s 49ms/step - loss: 1.0430 - accuracy: 0.6329 - val_loss: 0.9637 - val_accuracy: 0.6652\n",
      "Epoch 43/125\n",
      "64/64 [==============================] - 3s 49ms/step - loss: 1.0207 - accuracy: 0.6359 - val_loss: 0.9181 - val_accuracy: 0.6768\n",
      "Epoch 44/125\n",
      "64/64 [==============================] - 3s 50ms/step - loss: 1.0210 - accuracy: 0.6403 - val_loss: 0.9089 - val_accuracy: 0.6852\n",
      "Epoch 45/125\n",
      "64/64 [==============================] - 3s 50ms/step - loss: 1.0048 - accuracy: 0.6443 - val_loss: 0.9039 - val_accuracy: 0.6832\n",
      "Epoch 46/125\n",
      "64/64 [==============================] - 3s 50ms/step - loss: 1.0099 - accuracy: 0.6469 - val_loss: 0.9224 - val_accuracy: 0.6752\n",
      "Epoch 47/125\n",
      "64/64 [==============================] - 3s 50ms/step - loss: 0.9947 - accuracy: 0.6464 - val_loss: 0.8978 - val_accuracy: 0.6900\n",
      "Epoch 48/125\n",
      "64/64 [==============================] - 3s 49ms/step - loss: 0.9824 - accuracy: 0.6541 - val_loss: 0.8926 - val_accuracy: 0.6862\n",
      "Epoch 49/125\n",
      "64/64 [==============================] - 3s 50ms/step - loss: 0.9808 - accuracy: 0.6533 - val_loss: 0.9074 - val_accuracy: 0.6886\n",
      "Epoch 50/125\n",
      "64/64 [==============================] - 3s 49ms/step - loss: 0.9625 - accuracy: 0.6619 - val_loss: 0.8698 - val_accuracy: 0.6946\n",
      "Epoch 51/125\n",
      "64/64 [==============================] - 3s 50ms/step - loss: 0.9506 - accuracy: 0.6622 - val_loss: 0.8714 - val_accuracy: 0.6978\n",
      "Epoch 52/125\n",
      "64/64 [==============================] - 3s 50ms/step - loss: 0.9488 - accuracy: 0.6649 - val_loss: 0.8614 - val_accuracy: 0.6998\n",
      "Epoch 53/125\n",
      "64/64 [==============================] - 3s 49ms/step - loss: 0.9402 - accuracy: 0.6701 - val_loss: 0.8508 - val_accuracy: 0.7064\n",
      "Epoch 54/125\n",
      "64/64 [==============================] - 3s 50ms/step - loss: 0.9352 - accuracy: 0.6694 - val_loss: 0.8602 - val_accuracy: 0.7010\n",
      "Epoch 55/125\n",
      "64/64 [==============================] - 3s 50ms/step - loss: 0.9361 - accuracy: 0.6704 - val_loss: 0.8457 - val_accuracy: 0.7070\n",
      "Epoch 56/125\n",
      "64/64 [==============================] - 3s 50ms/step - loss: 0.9273 - accuracy: 0.6753 - val_loss: 0.8688 - val_accuracy: 0.6996\n",
      "Epoch 57/125\n",
      "64/64 [==============================] - 3s 50ms/step - loss: 0.9155 - accuracy: 0.6738 - val_loss: 0.8376 - val_accuracy: 0.7114\n",
      "Epoch 58/125\n",
      "64/64 [==============================] - 3s 50ms/step - loss: 0.9168 - accuracy: 0.6792 - val_loss: 0.8337 - val_accuracy: 0.7074\n",
      "Epoch 59/125\n",
      "64/64 [==============================] - 3s 51ms/step - loss: 0.9046 - accuracy: 0.6822 - val_loss: 0.8412 - val_accuracy: 0.7096\n",
      "Epoch 60/125\n",
      "64/64 [==============================] - 3s 51ms/step - loss: 0.8969 - accuracy: 0.6855 - val_loss: 0.8336 - val_accuracy: 0.7088\n",
      "Epoch 61/125\n",
      "64/64 [==============================] - 3s 51ms/step - loss: 0.9021 - accuracy: 0.6805 - val_loss: 0.8266 - val_accuracy: 0.7166\n",
      "Epoch 62/125\n",
      "64/64 [==============================] - 3s 51ms/step - loss: 0.8872 - accuracy: 0.6898 - val_loss: 0.8320 - val_accuracy: 0.7122\n",
      "Epoch 63/125\n",
      "64/64 [==============================] - 3s 50ms/step - loss: 0.8827 - accuracy: 0.6901 - val_loss: 0.8143 - val_accuracy: 0.7218\n",
      "Epoch 64/125\n",
      "64/64 [==============================] - 3s 51ms/step - loss: 0.8802 - accuracy: 0.6921 - val_loss: 0.8119 - val_accuracy: 0.7184\n",
      "Epoch 65/125\n",
      "64/64 [==============================] - 3s 50ms/step - loss: 0.8700 - accuracy: 0.6945 - val_loss: 0.8193 - val_accuracy: 0.7170\n",
      "Epoch 66/125\n",
      "64/64 [==============================] - 3s 51ms/step - loss: 0.8650 - accuracy: 0.6981 - val_loss: 0.7987 - val_accuracy: 0.7250\n",
      "Epoch 67/125\n",
      "64/64 [==============================] - 3s 50ms/step - loss: 0.8569 - accuracy: 0.7001 - val_loss: 0.8000 - val_accuracy: 0.7238\n",
      "Epoch 68/125\n",
      "64/64 [==============================] - 3s 50ms/step - loss: 0.8538 - accuracy: 0.6985 - val_loss: 0.7911 - val_accuracy: 0.7318\n",
      "Epoch 69/125\n",
      "64/64 [==============================] - 3s 50ms/step - loss: 0.8512 - accuracy: 0.7030 - val_loss: 0.7975 - val_accuracy: 0.7268\n",
      "Epoch 70/125\n",
      "64/64 [==============================] - 3s 50ms/step - loss: 0.8440 - accuracy: 0.7047 - val_loss: 0.7850 - val_accuracy: 0.7360\n",
      "Epoch 71/125\n",
      "64/64 [==============================] - 3s 50ms/step - loss: 0.8376 - accuracy: 0.7050 - val_loss: 0.7831 - val_accuracy: 0.7324\n",
      "Epoch 72/125\n",
      "64/64 [==============================] - 3s 50ms/step - loss: 0.8504 - accuracy: 0.7058 - val_loss: 0.7780 - val_accuracy: 0.7356\n",
      "Epoch 73/125\n",
      "64/64 [==============================] - 3s 50ms/step - loss: 0.8358 - accuracy: 0.7081 - val_loss: 0.7858 - val_accuracy: 0.7286\n",
      "Epoch 74/125\n",
      "64/64 [==============================] - 3s 50ms/step - loss: 0.8338 - accuracy: 0.7088 - val_loss: 0.7759 - val_accuracy: 0.7392\n",
      "Epoch 75/125\n",
      "64/64 [==============================] - 3s 50ms/step - loss: 0.8138 - accuracy: 0.7111 - val_loss: 0.7792 - val_accuracy: 0.7312\n",
      "Epoch 76/125\n",
      "64/64 [==============================] - 3s 50ms/step - loss: 0.8172 - accuracy: 0.7076 - val_loss: 0.7649 - val_accuracy: 0.7424\n",
      "Epoch 77/125\n",
      "64/64 [==============================] - 3s 50ms/step - loss: 0.8005 - accuracy: 0.7183 - val_loss: 0.7653 - val_accuracy: 0.7376\n",
      "Epoch 78/125\n",
      "64/64 [==============================] - 3s 50ms/step - loss: 0.7996 - accuracy: 0.7209 - val_loss: 0.7561 - val_accuracy: 0.7436\n",
      "Epoch 79/125\n",
      "64/64 [==============================] - 3s 51ms/step - loss: 0.8078 - accuracy: 0.7110 - val_loss: 0.7705 - val_accuracy: 0.7318\n",
      "Epoch 80/125\n",
      "64/64 [==============================] - 3s 51ms/step - loss: 0.7933 - accuracy: 0.7226 - val_loss: 0.7595 - val_accuracy: 0.7366\n",
      "Epoch 81/125\n",
      "64/64 [==============================] - 3s 51ms/step - loss: 0.7913 - accuracy: 0.7238 - val_loss: 0.7639 - val_accuracy: 0.7368\n",
      "Epoch 82/125\n",
      "64/64 [==============================] - 3s 51ms/step - loss: 0.7787 - accuracy: 0.7277 - val_loss: 0.7664 - val_accuracy: 0.7340\n",
      "Epoch 83/125\n",
      "64/64 [==============================] - 3s 51ms/step - loss: 0.7788 - accuracy: 0.7274 - val_loss: 0.7558 - val_accuracy: 0.7418\n",
      "Epoch 84/125\n",
      "64/64 [==============================] - 3s 51ms/step - loss: 0.7695 - accuracy: 0.7331 - val_loss: 0.7547 - val_accuracy: 0.7400\n",
      "Epoch 85/125\n",
      "64/64 [==============================] - 3s 51ms/step - loss: 0.7613 - accuracy: 0.7319 - val_loss: 0.7411 - val_accuracy: 0.7456\n",
      "Epoch 86/125\n",
      "64/64 [==============================] - 3s 51ms/step - loss: 0.7642 - accuracy: 0.7322 - val_loss: 0.7436 - val_accuracy: 0.7460\n",
      "Epoch 87/125\n",
      "64/64 [==============================] - 3s 50ms/step - loss: 0.7608 - accuracy: 0.7314 - val_loss: 0.7552 - val_accuracy: 0.7454\n",
      "Epoch 88/125\n",
      "64/64 [==============================] - 3s 51ms/step - loss: 0.7663 - accuracy: 0.7339 - val_loss: 0.7421 - val_accuracy: 0.7476\n",
      "Epoch 89/125\n",
      "64/64 [==============================] - 3s 50ms/step - loss: 0.7388 - accuracy: 0.7422 - val_loss: 0.7322 - val_accuracy: 0.7508\n",
      "Epoch 90/125\n",
      "64/64 [==============================] - 3s 51ms/step - loss: 0.7492 - accuracy: 0.7372 - val_loss: 0.7570 - val_accuracy: 0.7386\n",
      "Epoch 91/125\n",
      "64/64 [==============================] - 3s 50ms/step - loss: 0.7494 - accuracy: 0.7375 - val_loss: 0.7261 - val_accuracy: 0.7542\n",
      "Epoch 92/125\n",
      "64/64 [==============================] - 3s 50ms/step - loss: 0.7320 - accuracy: 0.7435 - val_loss: 0.7303 - val_accuracy: 0.7496\n",
      "Epoch 93/125\n",
      "64/64 [==============================] - 3s 50ms/step - loss: 0.7337 - accuracy: 0.7393 - val_loss: 0.7299 - val_accuracy: 0.7522\n",
      "Epoch 94/125\n",
      "64/64 [==============================] - 3s 50ms/step - loss: 0.7261 - accuracy: 0.7436 - val_loss: 0.7382 - val_accuracy: 0.7486\n",
      "Epoch 95/125\n",
      "64/64 [==============================] - 3s 51ms/step - loss: 0.7176 - accuracy: 0.7451 - val_loss: 0.7172 - val_accuracy: 0.7554\n",
      "Epoch 96/125\n",
      "64/64 [==============================] - 3s 51ms/step - loss: 0.7161 - accuracy: 0.7469 - val_loss: 0.7309 - val_accuracy: 0.7448\n",
      "Epoch 97/125\n",
      "64/64 [==============================] - 3s 50ms/step - loss: 0.7179 - accuracy: 0.7484 - val_loss: 0.7133 - val_accuracy: 0.7566\n",
      "Epoch 98/125\n",
      "64/64 [==============================] - 3s 50ms/step - loss: 0.7023 - accuracy: 0.7553 - val_loss: 0.7148 - val_accuracy: 0.7540\n",
      "Epoch 99/125\n",
      "64/64 [==============================] - 3s 51ms/step - loss: 0.6971 - accuracy: 0.7564 - val_loss: 0.7078 - val_accuracy: 0.7586\n",
      "Epoch 100/125\n",
      "64/64 [==============================] - 3s 51ms/step - loss: 0.7025 - accuracy: 0.7514 - val_loss: 0.7118 - val_accuracy: 0.7582\n",
      "Epoch 101/125\n",
      "64/64 [==============================] - 3s 51ms/step - loss: 0.6948 - accuracy: 0.7541 - val_loss: 0.7163 - val_accuracy: 0.7524\n",
      "Epoch 102/125\n",
      "64/64 [==============================] - 3s 51ms/step - loss: 0.6987 - accuracy: 0.7513 - val_loss: 0.7075 - val_accuracy: 0.7576\n",
      "Epoch 103/125\n",
      "64/64 [==============================] - 3s 50ms/step - loss: 0.6835 - accuracy: 0.7604 - val_loss: 0.7113 - val_accuracy: 0.7582\n",
      "Epoch 104/125\n",
      "64/64 [==============================] - 3s 51ms/step - loss: 0.6819 - accuracy: 0.7614 - val_loss: 0.7101 - val_accuracy: 0.7566\n",
      "Epoch 105/125\n",
      "64/64 [==============================] - 3s 51ms/step - loss: 0.6665 - accuracy: 0.7661 - val_loss: 0.7010 - val_accuracy: 0.7612\n",
      "Epoch 106/125\n",
      "64/64 [==============================] - 3s 51ms/step - loss: 0.6742 - accuracy: 0.7611 - val_loss: 0.7115 - val_accuracy: 0.7542\n",
      "Epoch 107/125\n",
      "64/64 [==============================] - 3s 51ms/step - loss: 0.6756 - accuracy: 0.7631 - val_loss: 0.7005 - val_accuracy: 0.7562\n",
      "Epoch 108/125\n",
      "64/64 [==============================] - 3s 50ms/step - loss: 0.6757 - accuracy: 0.7616 - val_loss: 0.7019 - val_accuracy: 0.7626\n",
      "Epoch 109/125\n",
      "64/64 [==============================] - 3s 50ms/step - loss: 0.6673 - accuracy: 0.7653 - val_loss: 0.7057 - val_accuracy: 0.7630\n",
      "Epoch 110/125\n",
      "64/64 [==============================] - 3s 51ms/step - loss: 0.6684 - accuracy: 0.7671 - val_loss: 0.6952 - val_accuracy: 0.7664\n",
      "Epoch 111/125\n",
      "64/64 [==============================] - 3s 51ms/step - loss: 0.6462 - accuracy: 0.7728 - val_loss: 0.7045 - val_accuracy: 0.7592\n",
      "Epoch 112/125\n",
      "64/64 [==============================] - 3s 51ms/step - loss: 0.6550 - accuracy: 0.7711 - val_loss: 0.7025 - val_accuracy: 0.7606\n",
      "Epoch 113/125\n",
      "64/64 [==============================] - 3s 51ms/step - loss: 0.6439 - accuracy: 0.7676 - val_loss: 0.6899 - val_accuracy: 0.7626\n",
      "Epoch 114/125\n",
      "64/64 [==============================] - 3s 51ms/step - loss: 0.6488 - accuracy: 0.7704 - val_loss: 0.6968 - val_accuracy: 0.7590\n",
      "Epoch 115/125\n",
      "64/64 [==============================] - 3s 51ms/step - loss: 0.6315 - accuracy: 0.7796 - val_loss: 0.6862 - val_accuracy: 0.7658\n",
      "Epoch 116/125\n",
      "64/64 [==============================] - 3s 51ms/step - loss: 0.6249 - accuracy: 0.7800 - val_loss: 0.6900 - val_accuracy: 0.7668\n",
      "Epoch 117/125\n",
      "64/64 [==============================] - 3s 50ms/step - loss: 0.6307 - accuracy: 0.7794 - val_loss: 0.6996 - val_accuracy: 0.7608\n",
      "Epoch 118/125\n",
      "64/64 [==============================] - 3s 50ms/step - loss: 0.6417 - accuracy: 0.7764 - val_loss: 0.6912 - val_accuracy: 0.7684\n",
      "Epoch 119/125\n",
      "64/64 [==============================] - 3s 50ms/step - loss: 0.6200 - accuracy: 0.7823 - val_loss: 0.6843 - val_accuracy: 0.7684\n",
      "Epoch 120/125\n",
      "64/64 [==============================] - 3s 50ms/step - loss: 0.6102 - accuracy: 0.7844 - val_loss: 0.6778 - val_accuracy: 0.7722\n",
      "Epoch 121/125\n",
      "64/64 [==============================] - 3s 51ms/step - loss: 0.6142 - accuracy: 0.7857 - val_loss: 0.6721 - val_accuracy: 0.7712\n",
      "Epoch 122/125\n",
      "64/64 [==============================] - 3s 50ms/step - loss: 0.6133 - accuracy: 0.7828 - val_loss: 0.7006 - val_accuracy: 0.7578\n",
      "Epoch 123/125\n",
      "64/64 [==============================] - 3s 50ms/step - loss: 0.6077 - accuracy: 0.7864 - val_loss: 0.6921 - val_accuracy: 0.7600\n",
      "Epoch 124/125\n",
      "64/64 [==============================] - 3s 50ms/step - loss: 0.6067 - accuracy: 0.7845 - val_loss: 0.6793 - val_accuracy: 0.7716\n",
      "Epoch 125/125\n",
      "64/64 [==============================] - 3s 51ms/step - loss: 0.5957 - accuracy: 0.7900 - val_loss: 0.6718 - val_accuracy: 0.7708\n",
      "Time taken: 0 hours 7 minutes and 36.47 seconds.\n"
     ]
    }
   ],
   "source": [
    "start_time=timer(None)\n",
    "result = model.fit(\n",
    "    xtrain,\n",
    "    ytrain,\n",
    "    validation_split=0.1,    \n",
    "    verbose=True,\n",
    "    epochs=125,\n",
    "    steps_per_epoch= 64,\n",
    "    batch_size=512\n",
    "    )\n",
    "timer(start_time)"
   ]
  },
  {
   "cell_type": "markdown",
   "metadata": {
    "id": "D6HG7sWknx2A"
   },
   "source": [
    "##Visualizing the performance"
   ]
  },
  {
   "cell_type": "code",
   "execution_count": 12,
   "metadata": {
    "colab": {
     "base_uri": "https://localhost:8080/",
     "height": 621
    },
    "id": "WkSAdxhWmeul",
    "outputId": "6f5d2020-8832-4025-a9df-8574bcd7d9d7"
   },
   "outputs": [
    {
     "data": {
      "image/png": "[encoded data removed]",
      "text/plain": [
       "<Figure size 1440x720 with 2 Axes>"
      ]
     },
     "metadata": {
      "needs_background": "light",
      "tags": []
     },
     "output_type": "display_data"
    }
   ],
   "source": [
    "plt.figure(figsize=(20, 10))\n",
    "plt.subplot(1, 2, 1)\n",
    "plt.title(\"CNN Training and Validation Accuracy\")\n",
    "plt.plot(result.history[\"accuracy\"], label='Training Accuracy')\n",
    "plt.plot(result.history['val_accuracy'], label='Validation Accuracy')\n",
    "plt.legend(loc='lower right')\n",
    "plt.ylabel('accuracy')\n",
    "plt.xlabel('epoch')\n",
    "plt.subplot(1, 2, 2)\n",
    "plt.plot( result.history[\"loss\"], label='Training Loss')\n",
    "plt.plot( result.history[\"val_loss\"], label='Validation Loss')\n",
    "plt.legend(loc='upper right')\n",
    "plt.title('CNN Training and Validation Loss')\n",
    "plt.ylabel('loss')\n",
    "plt.xlabel('epoch')\n",
    "plt.show()"
   ]
  },
  {
   "cell_type": "markdown",
   "metadata": {
    "id": "PHvUOKR2n27g"
   },
   "source": [
    "## Check performance on test"
   ]
  },
  {
   "cell_type": "code",
   "execution_count": 13,
   "metadata": {
    "colab": {
     "base_uri": "https://localhost:8080/",
     "height": 0
    },
    "id": "03Ie9M5Ky4JS",
    "outputId": "02fce565-abc7-499e-d97e-233acec4ae8a"
   },
   "outputs": [
    {
     "name": "stdout",
     "output_type": "stream",
     "text": [
      "313/313 [==============================] - 1s 3ms/step - loss: 0.7058 - accuracy: 0.7556\n",
      "Test loss: 0.7057846188545227\n",
      "Test accuracy: 0.7555999755859375\n"
     ]
    }
   ],
   "source": [
    "# check performance on test\n",
    "scores = model.evaluate(xtest, ytest, verbose=1) \n",
    "print('Test loss:', scores[0])\n",
    "print('Test accuracy:', scores[1])"
   ]
  },
  {
   "cell_type": "markdown",
   "metadata": {
    "id": "072onwh75dkX"
   },
   "source": [
    "## Result: "
   ]
  },
  {
   "cell_type": "markdown",
   "metadata": {
    "id": "fAU8cDUmqF3P"
   },
   "source": [
    "### So the model's final Training Accuracy is 79% "
   ]
  },
  {
   "cell_type": "markdown",
   "metadata": {
    "id": "dwDRP4Cxp_03"
   },
   "source": [
    "### Validation Accuracy is 77% "
   ]
  },
  {
   "cell_type": "markdown",
   "metadata": {
    "id": "W1JCnKJRqOi-"
   },
   "source": [
    "### Testing Accuracy is 76%"
   ]
  }
 ],
 "metadata": {
  "accelerator": "GPU",
  "colab": {
   "collapsed_sections": [],
   "name": "Regex_Task-13.ipynb",
   "provenance": []
  },
  "interpreter": {
   "hash": "b3ba2566441a7c06988d0923437866b63cedc61552a5af99d1f4fb67d367b25f"
  },
  "kernelspec": {
   "display_name": "Python 3",
   "language": "python",
   "name": "python3"
  },
  "language_info": {
   "codemirror_mode": {
    "name": "ipython",
    "version": 3
   },
   "file_extension": ".py",
   "mimetype": "text/x-python",
   "name": "python",
   "nbconvert_exporter": "python",
   "pygments_lexer": "ipython3",
   "version": "3.8.8"
  }
 },
 "nbformat": 4,
 "nbformat_minor": 2
}
